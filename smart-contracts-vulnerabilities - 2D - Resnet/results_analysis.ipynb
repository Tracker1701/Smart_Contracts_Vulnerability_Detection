{
 "cells": [
  {
   "cell_type": "code",
   "execution_count": 33,
   "metadata": {},
   "outputs": [],
   "source": [
    "import tqdm\n",
    "import torch\n",
    "import numpy as np\n",
    "import seaborn as sns\n",
    "import matplotlib.pyplot as plt\n",
    "from datasets import load_dataset\n",
    "from torch.utils.data import DataLoader\n",
    "from torch.nn.functional import normalize\n",
    "from src.modeling.network.backbone import ResNet1D\n",
    "from src.data.transform import generate_signal_and_label\n",
    "from sklearn.metrics import ConfusionMatrixDisplay, classification_report, multilabel_confusion_matrix"
   ]
  },
  {
   "cell_type": "code",
   "execution_count": 6,
   "metadata": {},
   "outputs": [],
   "source": [
    "MAX_LEN = 16284\n",
    "BATCH_SIZE = 16\n",
    "DEVICE = 'cuda'\n",
    "PATH = 'checkpoints/best_model.pkl'\n",
    "\n",
    "def img_label_to_tensor(examples):\n",
    "    if 'image' in examples.keys():\n",
    "        examples['image'] = [np.pad(img, pad_width=(0, MAX_LEN - len(img))) if len(img) < MAX_LEN else img[:MAX_LEN] for img in examples['image']]\n",
    "        examples['image'] = [torch.unsqueeze(normalize(torch.tensor(img).float(), dim=0), dim=0) for img in examples['image']]\n",
    "\n",
    "        examples['label'] = torch.tensor(examples['label'])\n",
    "        return examples"
   ]
  },
  {
   "cell_type": "code",
   "execution_count": 3,
   "metadata": {},
   "outputs": [
    {
     "name": "stderr",
     "output_type": "stream",
     "text": [
      "Reusing dataset slither_audited_smart_contracts (C:\\Users\\Martina\\.cache\\huggingface\\datasets\\mwritescode___slither_audited_smart_contracts\\big-multilabel\\1.1.0\\4cf503b59ce9d3157914e47f6253de773b7ab828f46642685d4b470b88ca1f13)\n",
      "100%|██████████| 16/16 [00:05<00:00,  3.00ba/s]\n",
      "100%|██████████| 15921/15921 [00:05<00:00, 2757.70ex/s]\n"
     ]
    }
   ],
   "source": [
    "test_ds = load_dataset(\"mwritescode/slither-audited-smart-contracts\", 'big-multilabel', split='test', ignore_verifications=True)\n",
    "test_ds = test_ds.filter(lambda elem: elem['bytecode'] != '0x')\n",
    "test_ds = test_ds.map(generate_signal_and_label, remove_columns=['address', 'source_code', 'bytecode', 'slither'])\n",
    "test_ds.set_transform(img_label_to_tensor)"
   ]
  },
  {
   "cell_type": "code",
   "execution_count": 4,
   "metadata": {},
   "outputs": [],
   "source": [
    "loader_test = DataLoader(test_ds, batch_size=BATCH_SIZE)"
   ]
  },
  {
   "cell_type": "code",
   "execution_count": null,
   "metadata": {},
   "outputs": [],
   "source": [
    "model = ResNet1D(num_classes=5)\n",
    "\n",
    "checkpoint = torch.load(PATH)\n",
    "model.load_state_dict(checkpoint['model_state_dict'])\n",
    "model.to(DEVICE)\n",
    "model.eval()"
   ]
  },
  {
   "cell_type": "code",
   "execution_count": 18,
   "metadata": {},
   "outputs": [
    {
     "name": "stderr",
     "output_type": "stream",
     "text": [
      "100%|██████████| 996/996 [05:44<00:00,  2.89it/s]\n"
     ]
    }
   ],
   "source": [
    "total_preds = []\n",
    "total_gt = []\n",
    "for batch in tqdm.tqdm(loader_test):\n",
    "    images = batch['image'].to(DEVICE)\n",
    "    preds = model(images)\n",
    "    preds = (preds >= 0.0).float().cpu().numpy()\n",
    "    total_preds.append(preds)\n",
    "    total_gt.append(batch['label'])\n",
    "\n",
    "y_pred = np.concatenate(total_preds, axis=0)\n",
    "y_true = np.concatenate(total_gt, axis=0)"
   ]
  },
  {
   "cell_type": "code",
   "execution_count": 30,
   "metadata": {},
   "outputs": [
    {
     "name": "stdout",
     "output_type": "stream",
     "text": [
      "                 precision    recall  f1-score   support\n",
      "\n",
      " access-control       0.83      0.71      0.77      2331\n",
      "     arithmetic       0.80      0.72      0.76      2708\n",
      "          other       0.79      0.77      0.78      4193\n",
      "     reentrancy       0.89      0.81      0.85      4838\n",
      "unchecked-calls       0.94      0.90      0.92      7276\n",
      "\n",
      "      micro avg       0.87      0.81      0.84     21346\n",
      "      macro avg       0.85      0.78      0.81     21346\n",
      "   weighted avg       0.87      0.81      0.84     21346\n",
      "    samples avg       0.55      0.53      0.53     21346\n",
      "\n"
     ]
    }
   ],
   "source": [
    "LABEL_NAMES = ['access-control', 'arithmetic', 'other', 'reentrancy', 'unchecked-calls']\n",
    "print(classification_report(y_true, y_pred, target_names=LABEL_NAMES, zero_division=0))"
   ]
  },
  {
   "cell_type": "code",
   "execution_count": 41,
   "metadata": {},
   "outputs": [
    {
     "data": {
      "image/png": "[encoded data removed]",
      "text/plain": [
       "<Figure size 1440x720 with 5 Axes>"
      ]
     },
     "metadata": {
      "needs_background": "light"
     },
     "output_type": "display_data"
    }
   ],
   "source": [
    "_, axs = plt.subplots(1, len(LABEL_NAMES), figsize=(25, 10))\n",
    "conf_mat_dict={}\n",
    "\n",
    "for label_col, ax in zip(range(len(LABEL_NAMES)), axs):\n",
    "    y_true_label = y_true[:, label_col]\n",
    "    y_pred_label = y_pred[:, label_col]\n",
    "    ax.set_title(\"Confusion matrix for label \" + LABEL_NAMES[label_col])\n",
    "    ConfusionMatrixDisplay.from_predictions(y_true_label, y_pred_label, ax=ax, cmap=plt.cm.Blues, normalize='true', colorbar=False)\n",
    "\n",
    "plt.show()"
   ]
  },
  {
   "cell_type": "code",
   "execution_count": null,
   "metadata": {},
   "outputs": [],
   "source": []
  }
 ],
 "metadata": {
  "kernelspec": {
   "display_name": "Python 3.9.11 ('blockchain')",
   "language": "python",
   "name": "python3"
  },
  "language_info": {
   "codemirror_mode": {
    "name": "ipython",
    "version": 3
   },
   "file_extension": ".py",
   "mimetype": "text/x-python",
   "name": "python",
   "nbconvert_exporter": "python",
   "pygments_lexer": "ipython3",
   "version": "3.9.11"
  },
  "orig_nbformat": 4,
  "vscode": {
   "interpreter": {
    "hash": "db1cc9ad4e9485405650762932d7415571cc14530bd4f6839bd14d356cc111e6"
   }
  }
 },
 "nbformat": 4,
 "nbformat_minor": 2
}
